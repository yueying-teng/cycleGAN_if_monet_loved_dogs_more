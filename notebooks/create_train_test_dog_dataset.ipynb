{
 "cells": [
  {
   "cell_type": "code",
   "execution_count": 1,
   "metadata": {},
   "outputs": [],
   "source": [
    "import os\n",
    "import glob\n",
    "import cv2\n",
    "import numpy as np\n",
    "import shutil\n",
    "import xml.etree.ElementTree as ET\n",
    "import matplotlib.pyplot as plt\n",
    "%matplotlib inline"
   ]
  },
  {
   "cell_type": "code",
   "execution_count": 2,
   "metadata": {},
   "outputs": [],
   "source": [
    "img_dir = '/work/data/dog_data/images/Images'\n",
    "ann_dir = '/work/data/dog_data/annotations/Annotation'\n",
    "\n",
    "train_dir = '/work/data/dog_photo'\n",
    "test_dir = '/work/data/dog_photo_test'"
   ]
  },
  {
   "cell_type": "code",
   "execution_count": 5,
   "metadata": {},
   "outputs": [],
   "source": [
    " \n",
    "def get_area_ratio(ann_path):\n",
    "    tree = ET.parse(ann_path)\n",
    "\n",
    "    xmin = int(tree.getroot().findall('object')[0].find('bndbox').find('xmin').text)\n",
    "    xmax = int(tree.getroot().findall('object')[0].find('bndbox').find('xmax').text)\n",
    "    ymin = int(tree.getroot().findall('object')[0].find('bndbox').find('ymin').text)\n",
    "    ymax = int(tree.getroot().findall('object')[0].find('bndbox').find('ymax').text)\n",
    "#     img = img[ymin:ymax, xmin:xmax, :]\n",
    "    width = int(tree.getroot().findall('size')[0].find('width').text)\n",
    "    height = int(tree.getroot().findall('size')[0].find('height').text)\n",
    "\n",
    "    return height, width, (abs(ymin-ymax) * abs(xmin-xmax)) / (height*width)\n"
   ]
  },
  {
   "cell_type": "code",
   "execution_count": 7,
   "metadata": {},
   "outputs": [
    {
     "data": {
      "text/plain": [
       "<matplotlib.collections.PathCollection at 0x7f49803586a0>"
      ]
     },
     "execution_count": 7,
     "metadata": {},
     "output_type": "execute_result"
    },
    {
     "data": {
      "image/png": "[encoded data removed]",
      "text/plain": [
       "<Figure size 432x288 with 1 Axes>"
      ]
     },
     "metadata": {
      "needs_background": "light"
     },
     "output_type": "display_data"
    }
   ],
   "source": [
    "# check the distribution of the image dimensions\n",
    "\n",
    "h = []\n",
    "w = []\n",
    "\n",
    "folders = os.listdir(ann_dir)\n",
    "for folder in folders:\n",
    "    for ann in os.listdir(os.path.join(ann_dir,folder)):\n",
    "        ann_path = os.path.join(ann_dir, folder, ann)\n",
    "        tree = ET.parse(ann_path)\n",
    "        width = int(tree.getroot().findall('size')[0].find('width').text)\n",
    "        height = int(tree.getroot().findall('size')[0].find('height').text)\n",
    "    \n",
    "        h.append(height)\n",
    "        w.append(width)\n",
    "        \n",
    "plt.scatter(h, w)"
   ]
  },
  {
   "cell_type": "markdown",
   "metadata": {},
   "source": [
    "### select images with object_size/img_size >0.8 and img_height> 256 and img_width > 256"
   ]
  },
  {
   "cell_type": "code",
   "execution_count": null,
   "metadata": {},
   "outputs": [],
   "source": [
    "cnt =0 \n",
    "dic = {}\n",
    "\n",
    "folders = os.listdir(ann_dir)\n",
    "for folder in folders:\n",
    "    for ann in os.listdir(os.path.join(ann_dir,folder)):\n",
    "        ann_path = os.path.join(folder, ann)\n",
    "        height, width, ratio = get_area_ratio(os.path.join(ann_dir, ann_path))\n",
    "        dic[ann_path]=[height, width, ratio]\n",
    "        cnt +=1 \n",
    "        "
   ]
  },
  {
   "cell_type": "code",
   "execution_count": 9,
   "metadata": {},
   "outputs": [],
   "source": [
    "valid_path = []\n",
    "for path, val in dic.items():\n",
    "    height, width, ratio = val\n",
    "#     if height> 512 and width > 512:\n",
    "    if ratio>0.8 and height> 256 and width > 256:\n",
    "        valid_path.append(path)"
   ]
  },
  {
   "cell_type": "code",
   "execution_count": 10,
   "metadata": {},
   "outputs": [],
   "source": [
    "valid_dic = {}\n",
    "for path in valid_path:\n",
    "    valid_dic[path] = dic[path]"
   ]
  },
  {
   "cell_type": "markdown",
   "metadata": {},
   "source": [
    "### copy images in valid_dic to a flat structure as training data "
   ]
  },
  {
   "cell_type": "code",
   "execution_count": 25,
   "metadata": {},
   "outputs": [],
   "source": [
    " \n",
    "for path, v in valid_dic.items():\n",
    "    src = os.path.join(img_dir, path + '.jpg')\n",
    "    dst = os.path.join(train_dir, '_'.join(path.split('/')) +'.jpg')\n",
    "    shutil.copy(src, dst)"
   ]
  },
  {
   "cell_type": "markdown",
   "metadata": {},
   "source": [
    "### create a test set using images that are not in the valid_dic"
   ]
  },
  {
   "cell_type": "code",
   "execution_count": 12,
   "metadata": {},
   "outputs": [
    {
     "data": {
      "text/plain": [
       "20580"
      ]
     },
     "execution_count": 12,
     "metadata": {},
     "output_type": "execute_result"
    }
   ],
   "source": [
    "all_img_path = []\n",
    "folders = os.listdir(img_dir)\n",
    "for folder in folders:\n",
    "    for img_name in os.listdir(os.path.join(img_dir, folder)):\n",
    "        path = os.path.join(folder, img_name)\n",
    "        all_img_path.append(path)\n",
    "        \n",
    "len(all_img_path)"
   ]
  },
  {
   "cell_type": "code",
   "execution_count": 26,
   "metadata": {},
   "outputs": [],
   "source": [
    "test_img_path = [i for i in all_img_path if i.split('.')[0] not in list(valid_dic.keys())]\n",
    "print(test_img_path[0], len(valid_dic))\n",
    "\n",
    "for path in test_img_path:\n",
    "    src = os.path.join(os.path.join(img_dir, path))\n",
    "    dst_name = '_'.join(path.split('/'))\n",
    "    dst = os.path.join(os.path.join(test_dir, dst_name))\n",
    "    shutil.copy(src, dst)"
   ]
  }
 ],
 "metadata": {
  "kernelspec": {
   "display_name": "Python 3",
   "language": "python",
   "name": "python3"
  },
  "language_info": {
   "codemirror_mode": {
    "name": "ipython",
    "version": 3
   },
   "file_extension": ".py",
   "mimetype": "text/x-python",
   "name": "python",
   "nbconvert_exporter": "python",
   "pygments_lexer": "ipython3",
   "version": "3.6.9"
  }
 },
 "nbformat": 4,
 "nbformat_minor": 4
}
